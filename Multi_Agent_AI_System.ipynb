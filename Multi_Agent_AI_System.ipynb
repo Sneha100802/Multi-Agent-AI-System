{
 "cells": [
  {
   "cell_type": "code",
   "execution_count": 12,
   "metadata": {},
   "outputs": [
    {
     "name": "stdout",
     "output_type": "stream",
     "text": [
      "Requirement already satisfied: gradio in c:\\users\\jhasn\\anaconda3\\lib\\site-packages (5.32.0)\n",
      "Requirement already satisfied: aiofiles<25.0,>=22.0 in c:\\users\\jhasn\\anaconda3\\lib\\site-packages (from gradio) (24.1.0)\n",
      "Requirement already satisfied: anyio<5.0,>=3.0 in c:\\users\\jhasn\\anaconda3\\lib\\site-packages (from gradio) (4.2.0)\n",
      "Requirement already satisfied: fastapi<1.0,>=0.115.2 in c:\\users\\jhasn\\anaconda3\\lib\\site-packages (from gradio) (0.115.12)\n",
      "Requirement already satisfied: ffmpy in c:\\users\\jhasn\\anaconda3\\lib\\site-packages (from gradio) (0.5.0)\n",
      "Requirement already satisfied: gradio-client==1.10.2 in c:\\users\\jhasn\\anaconda3\\lib\\site-packages (from gradio) (1.10.2)\n",
      "Requirement already satisfied: groovy~=0.1 in c:\\users\\jhasn\\anaconda3\\lib\\site-packages (from gradio) (0.1.2)\n",
      "Requirement already satisfied: httpx>=0.24.1 in c:\\users\\jhasn\\anaconda3\\lib\\site-packages (from gradio) (0.27.0)\n",
      "Requirement already satisfied: huggingface-hub>=0.28.1 in c:\\users\\jhasn\\anaconda3\\lib\\site-packages (from gradio) (0.29.1)\n",
      "Requirement already satisfied: jinja2<4.0 in c:\\users\\jhasn\\anaconda3\\lib\\site-packages (from gradio) (3.1.4)\n",
      "Requirement already satisfied: markupsafe<4.0,>=2.0 in c:\\users\\jhasn\\anaconda3\\lib\\site-packages (from gradio) (2.1.3)\n",
      "Requirement already satisfied: numpy<3.0,>=1.0 in c:\\users\\jhasn\\anaconda3\\lib\\site-packages (from gradio) (1.26.4)\n",
      "Requirement already satisfied: orjson~=3.0 in c:\\users\\jhasn\\anaconda3\\lib\\site-packages (from gradio) (3.10.15)\n",
      "Requirement already satisfied: packaging in c:\\users\\jhasn\\anaconda3\\lib\\site-packages (from gradio) (24.1)\n",
      "Requirement already satisfied: pandas<3.0,>=1.0 in c:\\users\\jhasn\\anaconda3\\lib\\site-packages (from gradio) (2.2.3)\n",
      "Requirement already satisfied: pillow<12.0,>=8.0 in c:\\users\\jhasn\\anaconda3\\lib\\site-packages (from gradio) (10.4.0)\n",
      "Requirement already satisfied: pydantic<2.12,>=2.0 in c:\\users\\jhasn\\anaconda3\\lib\\site-packages (from gradio) (2.11.5)\n",
      "Requirement already satisfied: pydub in c:\\users\\jhasn\\anaconda3\\lib\\site-packages (from gradio) (0.25.1)\n",
      "Requirement already satisfied: python-multipart>=0.0.18 in c:\\users\\jhasn\\anaconda3\\lib\\site-packages (from gradio) (0.0.20)\n",
      "Requirement already satisfied: pyyaml<7.0,>=5.0 in c:\\users\\jhasn\\anaconda3\\lib\\site-packages (from gradio) (6.0.1)\n",
      "Requirement already satisfied: ruff>=0.9.3 in c:\\users\\jhasn\\anaconda3\\lib\\site-packages (from gradio) (0.11.12)\n",
      "Requirement already satisfied: safehttpx<0.2.0,>=0.1.6 in c:\\users\\jhasn\\anaconda3\\lib\\site-packages (from gradio) (0.1.6)\n",
      "Requirement already satisfied: semantic-version~=2.0 in c:\\users\\jhasn\\anaconda3\\lib\\site-packages (from gradio) (2.10.0)\n",
      "Requirement already satisfied: starlette<1.0,>=0.40.0 in c:\\users\\jhasn\\anaconda3\\lib\\site-packages (from gradio) (0.46.1)\n",
      "Requirement already satisfied: tomlkit<0.14.0,>=0.12.0 in c:\\users\\jhasn\\anaconda3\\lib\\site-packages (from gradio) (0.13.2)\n",
      "Requirement already satisfied: typer<1.0,>=0.12 in c:\\users\\jhasn\\anaconda3\\lib\\site-packages (from gradio) (0.16.0)\n",
      "Requirement already satisfied: typing-extensions~=4.0 in c:\\users\\jhasn\\anaconda3\\lib\\site-packages (from gradio) (4.13.2)\n",
      "Requirement already satisfied: uvicorn>=0.14.0 in c:\\users\\jhasn\\anaconda3\\lib\\site-packages (from gradio) (0.34.0)\n",
      "Requirement already satisfied: fsspec in c:\\users\\jhasn\\anaconda3\\lib\\site-packages (from gradio-client==1.10.2->gradio) (2024.6.1)\n",
      "Requirement already satisfied: websockets<16.0,>=10.0 in c:\\users\\jhasn\\anaconda3\\lib\\site-packages (from gradio-client==1.10.2->gradio) (15.0.1)\n",
      "Requirement already satisfied: idna>=2.8 in c:\\users\\jhasn\\anaconda3\\lib\\site-packages (from anyio<5.0,>=3.0->gradio) (3.7)\n",
      "Requirement already satisfied: sniffio>=1.1 in c:\\users\\jhasn\\anaconda3\\lib\\site-packages (from anyio<5.0,>=3.0->gradio) (1.3.0)\n",
      "Requirement already satisfied: certifi in c:\\users\\jhasn\\anaconda3\\lib\\site-packages (from httpx>=0.24.1->gradio) (2025.1.31)\n",
      "Requirement already satisfied: httpcore==1.* in c:\\users\\jhasn\\anaconda3\\lib\\site-packages (from httpx>=0.24.1->gradio) (1.0.2)\n",
      "Requirement already satisfied: h11<0.15,>=0.13 in c:\\users\\jhasn\\anaconda3\\lib\\site-packages (from httpcore==1.*->httpx>=0.24.1->gradio) (0.14.0)\n",
      "Requirement already satisfied: filelock in c:\\users\\jhasn\\anaconda3\\lib\\site-packages (from huggingface-hub>=0.28.1->gradio) (3.13.1)\n",
      "Requirement already satisfied: requests in c:\\users\\jhasn\\anaconda3\\lib\\site-packages (from huggingface-hub>=0.28.1->gradio) (2.32.3)\n",
      "Requirement already satisfied: tqdm>=4.42.1 in c:\\users\\jhasn\\anaconda3\\lib\\site-packages (from huggingface-hub>=0.28.1->gradio) (4.66.5)\n",
      "Requirement already satisfied: python-dateutil>=2.8.2 in c:\\users\\jhasn\\anaconda3\\lib\\site-packages (from pandas<3.0,>=1.0->gradio) (2.9.0.post0)\n",
      "Requirement already satisfied: pytz>=2020.1 in c:\\users\\jhasn\\anaconda3\\lib\\site-packages (from pandas<3.0,>=1.0->gradio) (2024.1)\n",
      "Requirement already satisfied: tzdata>=2022.7 in c:\\users\\jhasn\\anaconda3\\lib\\site-packages (from pandas<3.0,>=1.0->gradio) (2023.3)\n",
      "Requirement already satisfied: annotated-types>=0.6.0 in c:\\users\\jhasn\\anaconda3\\lib\\site-packages (from pydantic<2.12,>=2.0->gradio) (0.6.0)\n",
      "Requirement already satisfied: pydantic-core==2.33.2 in c:\\users\\jhasn\\anaconda3\\lib\\site-packages (from pydantic<2.12,>=2.0->gradio) (2.33.2)\n",
      "Requirement already satisfied: typing-inspection>=0.4.0 in c:\\users\\jhasn\\anaconda3\\lib\\site-packages (from pydantic<2.12,>=2.0->gradio) (0.4.1)\n",
      "Requirement already satisfied: click>=8.0.0 in c:\\users\\jhasn\\anaconda3\\lib\\site-packages (from typer<1.0,>=0.12->gradio) (8.1.7)\n",
      "Requirement already satisfied: shellingham>=1.3.0 in c:\\users\\jhasn\\anaconda3\\lib\\site-packages (from typer<1.0,>=0.12->gradio) (1.5.4)\n",
      "Requirement already satisfied: rich>=10.11.0 in c:\\users\\jhasn\\anaconda3\\lib\\site-packages (from typer<1.0,>=0.12->gradio) (13.7.1)\n",
      "Requirement already satisfied: colorama in c:\\users\\jhasn\\anaconda3\\lib\\site-packages (from click>=8.0.0->typer<1.0,>=0.12->gradio) (0.4.6)\n",
      "Requirement already satisfied: six>=1.5 in c:\\users\\jhasn\\anaconda3\\lib\\site-packages (from python-dateutil>=2.8.2->pandas<3.0,>=1.0->gradio) (1.16.0)\n",
      "Requirement already satisfied: markdown-it-py>=2.2.0 in c:\\users\\jhasn\\anaconda3\\lib\\site-packages (from rich>=10.11.0->typer<1.0,>=0.12->gradio) (2.2.0)\n",
      "Requirement already satisfied: pygments<3.0.0,>=2.13.0 in c:\\users\\jhasn\\anaconda3\\lib\\site-packages (from rich>=10.11.0->typer<1.0,>=0.12->gradio) (2.15.1)\n",
      "Requirement already satisfied: charset-normalizer<4,>=2 in c:\\users\\jhasn\\anaconda3\\lib\\site-packages (from requests->huggingface-hub>=0.28.1->gradio) (3.3.2)\n",
      "Requirement already satisfied: urllib3<3,>=1.21.1 in c:\\users\\jhasn\\anaconda3\\lib\\site-packages (from requests->huggingface-hub>=0.28.1->gradio) (2.2.3)\n",
      "Requirement already satisfied: mdurl~=0.1 in c:\\users\\jhasn\\anaconda3\\lib\\site-packages (from markdown-it-py>=2.2.0->rich>=10.11.0->typer<1.0,>=0.12->gradio) (0.1.0)\n"
     ]
    }
   ],
   "source": [
    "# Install Gradio (for building the web interface)\n",
    "!pip install gradio\n"
   ]
  },
  {
   "cell_type": "code",
   "execution_count": 13,
   "metadata": {},
   "outputs": [],
   "source": [
    "# In-memory store for logs and agent interactions\n",
    "import time\n",
    "\n",
    "class SharedMemory:\n",
    "    def __init__(self):\n",
    "        self.records = []\n",
    "\n",
    "    def store_record(self, record):\n",
    "        record['timestamp'] = time.strftime(\"%Y-%m-%d %H:%M:%S\")\n",
    "        self.records.append(record)\n",
    "\n",
    "    def get_all_records(self):\n",
    "        return self.records\n",
    "\n",
    "memory = SharedMemory()\n"
   ]
  },
  {
   "cell_type": "code",
   "execution_count": 14,
   "metadata": {},
   "outputs": [],
   "source": [
    "# Classifier to detect format and intent\n",
    "import json\n",
    "import re\n",
    "\n",
    "def detect_format(data):\n",
    "    if isinstance(data, dict):\n",
    "        return \"JSON\"\n",
    "    elif isinstance(data, str):\n",
    "        return \"Email\"\n",
    "    else:\n",
    "        return \"Unknown\"\n",
    "\n",
    "def detect_intent(text_or_json):\n",
    "    if isinstance(text_or_json, dict):\n",
    "        text = json.dumps(text_or_json).lower()\n",
    "    else:\n",
    "        text = text_or_json.lower()\n",
    "\n",
    "    if \"invoice\" in text:\n",
    "        return \"Invoice\"\n",
    "    elif \"quote\" in text or \"rfq\" in text:\n",
    "        return \"RFQ\"\n",
    "    elif \"complaint\" in text:\n",
    "        return \"Complaint\"\n",
    "    elif \"regulation\" in text:\n",
    "        return \"Regulation\"\n",
    "    else:\n",
    "        return \"General\"\n"
   ]
  },
  {
   "cell_type": "code",
   "execution_count": 15,
   "metadata": {},
   "outputs": [],
   "source": [
    "# Agent logic for handling JSON and Email formats\n",
    "def process_json_agent(data):\n",
    "    expected_keys = [\"id\", \"date\", \"amount\", \"client\"]\n",
    "    missing = [k for k in expected_keys if k not in data]\n",
    "    anomalies = []\n",
    "\n",
    "    if \"amount\" in data and not isinstance(data[\"amount\"], (int, float)):\n",
    "        anomalies.append(\"amount should be a number\")\n",
    "\n",
    "    memory.store_record({\"agent\": \"JSON Agent\", \"fields\": data, \"missing\": missing})\n",
    "    return {\"agent\": \"JSON Agent\", \"normalized\": data, \"missing\": missing, \"anomalies\": anomalies}\n",
    "\n",
    "def process_email_agent(text):\n",
    "    sender = re.search(r'From:\\s*(.*)', text)\n",
    "    subject = re.search(r'Subject:\\s*(.*)', text)\n",
    "    urgency = \"High\" if \"urgent\" in text.lower() or \"asap\" in text.lower() else \"Normal\"\n",
    "\n",
    "    result = {\n",
    "        \"sender\": sender.group(1) if sender else \"Unknown\",\n",
    "        \"subject\": subject.group(1) if subject else \"No Subject\",\n",
    "        \"urgency\": urgency,\n",
    "        \"intent\": detect_intent(text)\n",
    "    }\n",
    "\n",
    "    memory.store_record({\"agent\": \"Email Agent\", \"fields\": result})\n",
    "    return result\n"
   ]
  },
  {
   "cell_type": "code",
   "execution_count": 16,
   "metadata": {},
   "outputs": [],
   "source": [
    "# This function handles both textbox and uploaded files\n",
    "import os\n",
    "\n",
    "chat_history = []\n",
    "\n",
    "def chat_with_agents(user_input, uploaded_file):\n",
    "    global chat_history\n",
    "\n",
    "    content = None\n",
    "\n",
    "    if uploaded_file:\n",
    "        ext = os.path.splitext(uploaded_file.name)[1].lower()\n",
    "        with open(uploaded_file.name, \"r\", encoding=\"utf-8\") as f:\n",
    "            file_content = f.read()\n",
    "        if ext == \".json\":\n",
    "            try:\n",
    "                content = json.loads(file_content)\n",
    "            except:\n",
    "                content = file_content\n",
    "        else:\n",
    "            content = file_content\n",
    "    else:\n",
    "        try:\n",
    "            content = json.loads(user_input)\n",
    "        except:\n",
    "            content = user_input\n",
    "\n",
    "    fmt = detect_format(content)\n",
    "    intent = detect_intent(content)\n",
    "    memory.store_record({\"agent\": \"Classifier\", \"format\": fmt, \"intent\": intent})\n",
    "\n",
    "    response = f\"**🧠 Classifier:** Format = `{fmt}`, Intent = `{intent}`\"\n",
    "\n",
    "    if fmt == \"JSON\":\n",
    "        result = process_json_agent(content)\n",
    "        response += \"\\n\\n**📦 JSON Agent:**\\n```json\\n\" + json.dumps(result, indent=2) + \"\\n```\"\n",
    "    elif fmt == \"Email\":\n",
    "        result = process_email_agent(content)\n",
    "        response += \"\\n\\n**✉️ Email Agent:**\\n```json\\n\" + json.dumps(result, indent=2) + \"\\n```\"\n",
    "    else:\n",
    "        response += \"\\n\\n❌ Unsupported format. Please enter valid JSON, email text, or upload a file.\"\n",
    "\n",
    "    chat_history.append((\"You\", user_input if user_input else f\"[Uploaded: {uploaded_file.name}]\"))\n",
    "    chat_history.append((\"AI\", response))\n",
    "\n",
    "    return chat_history, \"\", None  # Clear textbox and file input\n"
   ]
  },
  {
   "cell_type": "code",
   "execution_count": 17,
   "metadata": {},
   "outputs": [
    {
     "name": "stderr",
     "output_type": "stream",
     "text": [
      "C:\\Users\\jhasn\\AppData\\Local\\Temp\\ipykernel_24744\\1636207666.py:7: UserWarning: You have not specified a value for the `type` parameter. Defaulting to the 'tuples' format for chatbot messages, but this is deprecated and will be removed in a future version of Gradio. Please set type='messages' instead, which uses openai-style dictionaries with 'role' and 'content' keys.\n",
      "  chatbot = gr.Chatbot(height=400)\n"
     ]
    },
    {
     "name": "stdout",
     "output_type": "stream",
     "text": [
      "* Running on local URL:  http://127.0.0.1:7861\n",
      "* To create a public link, set `share=True` in `launch()`.\n"
     ]
    },
    {
     "data": {
      "text/html": [
       "<div><iframe src=\"http://127.0.0.1:7861/\" width=\"100%\" height=\"500\" allow=\"autoplay; camera; microphone; clipboard-read; clipboard-write;\" frameborder=\"0\" allowfullscreen></iframe></div>"
      ],
      "text/plain": [
       "<IPython.core.display.HTML object>"
      ]
     },
     "metadata": {},
     "output_type": "display_data"
    },
    {
     "data": {
      "text/plain": []
     },
     "execution_count": 17,
     "metadata": {},
     "output_type": "execute_result"
    }
   ],
   "source": [
    "# Gradio interface with textbox + file upload + send button\n",
    "import gradio as gr\n",
    "\n",
    "with gr.Blocks(title=\"Multi-Agent AI Chat with File Upload\") as demo:\n",
    "    gr.Markdown(\"### 🤖 Multi-Agent AI Chat System with File Upload\")\n",
    "\n",
    "    chatbot = gr.Chatbot(height=400)\n",
    "    with gr.Row():\n",
    "        txt_input = gr.Textbox(placeholder=\"Paste JSON or email here...\", lines=4, label=\"Text Input\")\n",
    "        file_input = gr.File(file_types=[\".json\", \".txt\"], label=\"Upload File\")\n",
    "    send_btn = gr.Button(\"Send\")\n",
    "\n",
    "    send_btn.click(fn=chat_with_agents, inputs=[txt_input, file_input], outputs=[chatbot, txt_input, file_input])\n",
    "\n",
    "demo.launch()\n"
   ]
  },
  {
   "cell_type": "code",
   "execution_count": null,
   "metadata": {},
   "outputs": [],
   "source": []
  }
 ],
 "metadata": {
  "colab": {
   "provenance": []
  },
  "kernelspec": {
   "display_name": "Python 3 (ipykernel)",
   "language": "python",
   "name": "python3"
  },
  "language_info": {
   "codemirror_mode": {
    "name": "ipython",
    "version": 3
   },
   "file_extension": ".py",
   "mimetype": "text/x-python",
   "name": "python",
   "nbconvert_exporter": "python",
   "pygments_lexer": "ipython3",
   "version": "3.12.7"
  }
 },
 "nbformat": 4,
 "nbformat_minor": 4
}
